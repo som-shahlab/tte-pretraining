{
 "cells": [
  {
   "cell_type": "code",
   "execution_count": 1,
   "metadata": {},
   "outputs": [
    {
     "name": "stderr",
     "output_type": "stream",
     "text": [
      "/home/zphuo/miniconda3/envs/FEMR_ENV/lib/python3.10/site-packages/tqdm/auto.py:21: TqdmWarning: IProgress not found. Please update jupyter and ipywidgets. See https://ipywidgets.readthedocs.io/en/stable/user_install.html\n",
      "  from .autonotebook import tqdm as notebook_tqdm\n"
     ]
    }
   ],
   "source": [
    "import pandas as pd\n",
    "from monai.data import PersistentDataset, ImageDataset, DataLoader\n",
    "from monai.transforms import (\n",
    "    LoadImaged,\n",
    "    EnsureChannelFirst,\n",
    "    EnsureChannelFirstd,\n",
    "    Compose,\n",
    "    RandRotate90,\n",
    "    RandRotate90d,\n",
    "    Resize,\n",
    "    Resized,\n",
    "    ScaleIntensity,\n",
    "    ScaleIntensityd,\n",
    ")\n",
    "\n",
    "from utils import CustomToOneChanneld, CustomToOneChannel, set_up_motor_task\n",
    "import os\n",
    "from tqdm import tqdm\n",
    "from datetime import datetime\n",
    "import femr\n",
    "import datasets\n",
    "import pickle\n",
    "from networks import DenseNet121_TTE\n",
    "import torch"
   ]
  },
  {
   "cell_type": "code",
   "execution_count": 25,
   "metadata": {},
   "outputs": [],
   "source": [
    "label_column = '12_month_PH'\n",
    "nii_folder='./trash/tutorial_TTE/data'\n",
    "import numpy as np\n",
    "prop_train = 1\n",
    "prop_val = 1\n",
    "use_cachedataset = True\n",
    "model_save_path='./trash/tutorial_TTE/data'\n",
    "batch_size = 1\n",
    "\n",
    "image_paths_train=['./trash/tutorial_TTE/data/831469698_2129-09-04_01_46_00.nii.gz']\n",
    "labels_train=[0]\n",
    "pin_memory = False\n",
    "learning_rate = 1e-6\n",
    "device='cpu'\n",
    "use_checkpoint=False\n",
    "dropout_prob=0.3\n",
    "\n",
    "# this would take hours to train a tokenizer so we just use the pre-trained one\n",
    "from_pretrained_tokenizer=True\n",
    "month_date_hour='022807' # when the pre-trained tokenizer was trained\n",
    "num_proc=8\n",
    "label_csv = './trash/tutorial_TTE/data/labels.csv'\n",
    "ontology_path = './trash/tutorial_TTE/data/ontology.pkl'\n",
    "parquet_folder = './trash/tutorial_TTE/data/parquet/'\n",
    "inference=False\n",
    "vocab_size=512\n",
    "final_layer_size=512\n",
    "num_tasks=200 # a subset of vocab given not every patient has all vocab"
   ]
  },
  {
   "cell_type": "code",
   "execution_count": 3,
   "metadata": {},
   "outputs": [],
   "source": [
    "if use_cachedataset:\n",
    "    train_transforms = Compose(\n",
    "        [LoadImaged(keys=[\"image\"]), ScaleIntensityd(keys=[\"image\"]), EnsureChannelFirstd(keys=[\"image\"]), Resized(keys=[\"image\"], spatial_size=(224, 224, 224)), RandRotate90d(keys=[\"image\"]), CustomToOneChanneld(keys=[\"image\"])]\n",
    "    )\n",
    "    val_transforms = Compose(\n",
    "        [LoadImaged(keys=[\"image\"]), ScaleIntensityd(keys=[\"image\"]), EnsureChannelFirstd(keys=[\"image\"]), Resized(keys=[\"image\"], spatial_size=(224, 224, 224)), CustomToOneChanneld(keys=[\"image\"])]\n",
    "    )\n",
    "    \n",
    "else:\n",
    "    # Define transforms\n",
    "    train_transforms = Compose(\n",
    "        [ScaleIntensity(), EnsureChannelFirst(), Resize((224, 224, 224)), RandRotate90(), CustomToOneChannel()]\n",
    "    )\n",
    "\n",
    "    val_transforms = Compose(\n",
    "        [ScaleIntensity(), EnsureChannelFirst(), Resize((224, 224, 224)), CustomToOneChannel()]\n",
    "    )"
   ]
  },
  {
   "cell_type": "code",
   "execution_count": 20,
   "metadata": {},
   "outputs": [],
   "source": [
    "def set_up_motor_task(TARGET_DIR, from_pretrained_tokenizer, month_date_hour, num_proc, label_csv, ontology_path, inference, vocab_size, START_TIME, parquet_folder, final_layer_size, num_tasks):\n",
    "    ###### set up MOTOR task ########\n",
    "    ################################\n",
    "    \n",
    "\n",
    "\n",
    "    from_pretrained = from_pretrained_tokenizer\n",
    "\n",
    "\n",
    "    if month_date_hour is None:\n",
    "        month_date_hour = datetime.now().strftime(\"%m%d%H\")\n",
    "    # if path not exists, create the folder\n",
    "    if not os.path.exists(TARGET_DIR):\n",
    "        os.mkdir(TARGET_DIR)\n",
    "    if not os.path.exists(os.path.join(TARGET_DIR, f'motor_model_{month_date_hour}')):\n",
    "        os.mkdir(os.path.join(TARGET_DIR, f'motor_model_{month_date_hour}'))\n",
    "\n",
    "\n",
    "    parquet_folder = os.path.join(parquet_folder, 'data', '*')\n",
    "    dataset = datasets.Dataset.from_parquet(parquet_folder)\n",
    "\n",
    "\n",
    "    import femr.index\n",
    "    print('indexing patients...')\n",
    "    index = femr.index.PatientIndex(dataset, num_proc=num_proc)\n",
    "    print('time used indexing patients:', datetime.now() - START_TIME)\n",
    "    \n",
    "    inspect_split_csv = os.path.join(TARGET_DIR, f'motor_model_{month_date_hour}', \"main_split.csv\")\n",
    "\n",
    "    \n",
    "    import femr.splits\n",
    "\n",
    "    main_split = femr.splits.PatientSplit.load_from_csv(inspect_split_csv)\n",
    "\n",
    "    main_dataset = main_split.split_dataset(dataset, index)\n",
    "    train_dataset = main_dataset['train']\n",
    "    print(train_dataset['patient_id'])\n",
    "\n",
    "    # Note, we need to use a hierarchical tokenizer for MOTOR\n",
    "\n",
    "\n",
    "    with open(ontology_path, 'rb') as f:\n",
    "        ontology = pickle.load(f)\n",
    "    \n",
    "    # load pretrained tokenizer\n",
    "    tokenizer = femr.models.tokenizer.FEMRTokenizer.from_pretrained(os.path.join(TARGET_DIR, f'motor_model_{month_date_hour}'), ontology=ontology)\n",
    "\n",
    "    # \n",
    "\n",
    "    time_used = datetime.now() - START_TIME\n",
    "    print(f\"Time used tokenzier: {time_used}\")\n",
    "    \n",
    "    print(\"Prefitting MOTOR task...\")\n",
    "    \n",
    "    with open(os.path.join(TARGET_DIR, f'motor_model_{month_date_hour}', \"motor_task.pkl\"), 'rb') as f:\n",
    "        motor_task = pickle.load(f)\n",
    "\n",
    "    time_used = datetime.now() - START_TIME\n",
    "    print(f\"Time used motor task: {time_used}\")\n",
    "    \n",
    "    # Third, we need to create batches. \n",
    "\n",
    "    processor = femr.models.processor.FEMRBatchProcessor(tokenizer, motor_task)\n",
    "\n",
    "    index_train = femr.index.PatientIndex(train_dataset, num_proc=num_proc)\n",
    "    print(index_train.get_patient_ids())\n",
    "\n",
    "    # We can do this one patient at a time\n",
    "\n",
    "    time_used = datetime.now() - START_TIME\n",
    "    print(f\"Time used index: {time_used}\")\n",
    "    \n",
    "   \n",
    "    \n",
    "    ###### set up MOTOR task ########\n",
    "    ################################\n",
    "    \n",
    "    return motor_task, tokenizer, train_dataset, None, None, processor, index_train, None, None, num_tasks"
   ]
  },
  {
   "cell_type": "code",
   "execution_count": 21,
   "metadata": {},
   "outputs": [],
   "source": [
    "if use_cachedataset:\n",
    "    \n",
    "    data_train = []\n",
    "    for i in range(len(image_paths_train)):\n",
    "        one_entry = {'image': image_paths_train[i]}\n",
    "        data_train.append(one_entry)\n",
    "    train_ds = PersistentDataset(\n",
    "        data=data_train,\n",
    "        transform=train_transforms,\n",
    "        cache_dir=os.path.join(model_save_path, 'cache_dir'),\n",
    "    )\n",
    "\n",
    "else:\n",
    "    # create a training data \n",
    "    train_ds = ImageDataset(\n",
    "        image_files=image_paths_train,\n",
    "        labels=labels_train,\n",
    "        transform=train_transforms,\n",
    "    )\n",
    "    \n",
    "\n",
    "train_loader = DataLoader(\n",
    "        train_ds, batch_size=batch_size, shuffle=False, num_workers=3, pin_memory=pin_memory\n",
    "    )\n"
   ]
  },
  {
   "cell_type": "code",
   "execution_count": 22,
   "metadata": {},
   "outputs": [
    {
     "name": "stderr",
     "output_type": "stream",
     "text": [
      "num_proc must be <= 1. Reducing num_proc to 1 for dataset of size 1.\n"
     ]
    },
    {
     "name": "stdout",
     "output_type": "stream",
     "text": [
      "indexing patients...\n"
     ]
    },
    {
     "name": "stderr",
     "output_type": "stream",
     "text": [
      "Map: 100%|██████████| 1/1 [00:00<00:00, 144.37 examples/s]"
     ]
    },
    {
     "name": "stdout",
     "output_type": "stream",
     "text": [
      "time used indexing patients: 0:00:00.022646\n",
      "[831469698]\n"
     ]
    },
    {
     "name": "stderr",
     "output_type": "stream",
     "text": [
      "\n",
      "num_proc must be <= 1. Reducing num_proc to 1 for dataset of size 1.\n"
     ]
    },
    {
     "name": "stdout",
     "output_type": "stream",
     "text": [
      "Time used tokenzier: 0:00:03.851011\n",
      "Prefitting MOTOR task...\n",
      "Time used motor task: 0:00:03.851723\n"
     ]
    },
    {
     "name": "stderr",
     "output_type": "stream",
     "text": [
      "Map: 100%|██████████| 1/1 [00:00<00:00, 202.86 examples/s]"
     ]
    },
    {
     "name": "stdout",
     "output_type": "stream",
     "text": [
      "dict_keys([831469698])\n",
      "Time used index: 0:00:03.860437\n"
     ]
    },
    {
     "name": "stderr",
     "output_type": "stream",
     "text": [
      "\n"
     ]
    }
   ],
   "source": [
    "motor_task, tokenizer, train_dataset, valid_dataset, test_dataset, processor, index_train, index_valid, index_test, num_tasks = set_up_motor_task(model_save_path, from_pretrained_tokenizer, month_date_hour, num_proc, label_csv, ontology_path, inference, vocab_size, datetime.now(), parquet_folder, final_layer_size, num_tasks)"
   ]
  },
  {
   "cell_type": "code",
   "execution_count": 23,
   "metadata": {},
   "outputs": [],
   "source": [
    "model = DenseNet121_TTE(spatial_dims=3, in_channels=1, out_channels=2, time_bins=motor_task.time_bins, pretraining_task_info=motor_task.get_task_config().task_kwargs['pretraining_task_info'], final_layer_size=motor_task.final_layer_size, vocab_size=tokenizer.vocab_size, device=device, use_checkpoint=use_checkpoint, dropout_prob=dropout_prob).to(device)"
   ]
  },
  {
   "cell_type": "code",
   "execution_count": 26,
   "metadata": {},
   "outputs": [
    {
     "name": "stderr",
     "output_type": "stream",
     "text": [
      "100%|██████████| 1/1 [00:17<00:00, 17.36s/it]"
     ]
    },
    {
     "name": "stdout",
     "output_type": "stream",
     "text": [
      "loss: 1.739653468132019\n"
     ]
    },
    {
     "name": "stderr",
     "output_type": "stream",
     "text": [
      "\n"
     ]
    }
   ],
   "source": [
    "step = -1\n",
    "optimizer = torch.optim.Adam(model.parameters(), learning_rate)\n",
    "model.train()\n",
    "for batch_data in tqdm(train_loader):\n",
    "    step += 1\n",
    "    patient_id = int(image_paths_train[step].replace(nii_folder+ \"/\", '').split('_')[0])\n",
    "    ct_time = ' '.join(image_paths_train[step].replace(nii_folder+ \"/\", '').replace('.nii.gz', '').split('_')[1:])\n",
    "    ct_time = datetime.strptime(ct_time, '%Y-%m-%d %H %M %S')\n",
    "    for idx, event in enumerate(train_dataset[index_train.get_index(patient_id)]['events']):\n",
    "        if event['time'] == ct_time:\n",
    "            offset = idx\n",
    "            \n",
    "    example_batch = processor.collate([processor.convert_patient(train_dataset[index_train.get_index(patient_id)], tensor_type='pt', offset=offset, max_patient_length=vocab_size)])\n",
    "    \n",
    "    if use_cachedataset:\n",
    "        inputs = batch_data['image'].to(device)\n",
    "    else:\n",
    "        inputs = batch_data[0].to(device)\n",
    "        \n",
    "    optimizer.zero_grad()\n",
    "    loss, _, features = model(inputs, example_batch['batch'], return_logits=False)\n",
    "    loss.backward()\n",
    "    optimizer.step()\n",
    "    print('loss:', loss.item())"
   ]
  },
  {
   "cell_type": "code",
   "execution_count": null,
   "metadata": {},
   "outputs": [],
   "source": []
  }
 ],
 "metadata": {
  "kernelspec": {
   "display_name": "FEMR_ENV",
   "language": "python",
   "name": "python3"
  },
  "language_info": {
   "codemirror_mode": {
    "name": "ipython",
    "version": 3
   },
   "file_extension": ".py",
   "mimetype": "text/x-python",
   "name": "python",
   "nbconvert_exporter": "python",
   "pygments_lexer": "ipython3",
   "version": "3.10.13"
  },
  "orig_nbformat": 4,
  "vscode": {
   "interpreter": {
    "hash": "2ad547a1bad819e55798e61eb91bb1baba0b118a145e65407fef098b6f308483"
   }
  }
 },
 "nbformat": 4,
 "nbformat_minor": 2
}
